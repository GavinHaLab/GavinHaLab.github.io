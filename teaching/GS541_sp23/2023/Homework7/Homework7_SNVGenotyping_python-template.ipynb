{
 "cells": [
  {
   "cell_type": "code",
   "execution_count": null,
   "metadata": {},
   "outputs": [],
   "source": [
    "#0.1 load libraries\n",
    "import pandas as pd\n",
    "from matplotlib import pyplot as plt\n",
    "import numpy as np"
   ]
  },
  {
   "cell_type": "code",
   "execution_count": null,
   "metadata": {},
   "outputs": [],
   "source": [
    "# 0.2. Load the input data\n",
    "counts = pd.read_csv(\"Homework7_alleleCounts.txt\", sep='\\t')\n",
    "counts.head() #view the first few rows"
   ]
  },
  {
   "cell_type": "code",
   "execution_count": null,
   "metadata": {},
   "outputs": [],
   "source": [
    "#get the read count and depth information from the DataFrame\n",
    "x = counts['refCount']\n",
    "N = counts['depth']\n"
   ]
  },
  {
   "cell_type": "code",
   "execution_count": null,
   "metadata": {},
   "outputs": [],
   "source": [
    "# 0.3. Initialize model parameters and hyperparametersfor genotypes, AA, AB, BB\n",
    "mu_init = [0.99, 0.5, 0.01] \n",
    "pi_init = [0.80, 0.15, 0.05] \n",
    "alpha_hyper = [10, 5, 1] \n",
    "beta_hyper = [1, 5, 10] \n",
    "delta_hyper = [8, 2, 2]"
   ]
  },
  {
   "cell_type": "code",
   "execution_count": null,
   "metadata": {},
   "outputs": [],
   "source": [
    "# 1. Implement functions for the Binomial Mixture Model\n",
    "\n",
    "#use scipy.stats.binom for the binom pdf\n",
    "from scipy.stats import binom\n",
    "#https://docs.scipy.org/doc/scipy/reference/generated/scipy.stats.binom.html#scipy.stats.binom\n",
    "\n",
    "# TO DO: 1.1.1 Define a function to compute the observed binomial likelihood probabilities\n",
    "\n",
    "def compute_binom_lik(x, N, mu):\n",
    "    \"\"\"\n",
    "    write function here\n",
    "    \"\"\"\n"
   ]
  },
  {
   "cell_type": "code",
   "execution_count": null,
   "metadata": {},
   "outputs": [],
   "source": [
    "# 1.1.2. Compute the binomial probabilities\n",
    "#use your function from 1.1 to compute the binomial probabilities\n",
    "\n",
    "lik = compute_binom_lik (x, N, mu_init)\n",
    "lik[0:5] #should match the outputs in the PDF"
   ]
  },
  {
   "cell_type": "code",
   "execution_count": null,
   "metadata": {},
   "outputs": [],
   "source": [
    "# 1.2. Compute the log likelihood function 'l'\n",
    "\n",
    "# TO DO: 1.2.1. Define a function, compute.loglik, that will compute the log likelihood function for the current parameter setttings\n",
    "\n",
    "def compute_loglik(L, pi):\n",
    "    \"\"\"\n",
    "    write function here\n",
    "    \"\"\""
   ]
  },
  {
   "cell_type": "code",
   "execution_count": null,
   "metadata": {},
   "outputs": [],
   "source": [
    "# 1.2.2. Compute the log likelihood for the input data\n",
    "# use your function from 1.2.1 to compute the log likelihood\n",
    "loglik = compute_loglik(lik, pi_init)\n",
    "loglik"
   ]
  },
  {
   "cell_type": "code",
   "execution_count": null,
   "metadata": {},
   "outputs": [],
   "source": [
    "# 2. Implement Functions for Genotype Inference and Parameter Estimation using EM\n",
    "# 2.1 Compute the responsibilities in the E-Step\n",
    "\n",
    "# TO DO: 2.1.1 Write a function to compute the responsibilities\n",
    "def compute_responsibilities (lik, pi):\n",
    "    \"\"\"\n",
    "    write function here\n",
    "    \"\"\""
   ]
  },
  {
   "cell_type": "code",
   "execution_count": null,
   "metadata": {},
   "outputs": [],
   "source": [
    "# 2.1.2 Compute gamma(Z1:T) for the first EM iteration\n",
    "gamma = compute_responsibilities(lik, pi_init)\n",
    "gamma[0:3]"
   ]
  },
  {
   "cell_type": "code",
   "execution_count": null,
   "metadata": {},
   "outputs": [],
   "source": [
    "# 2.2 Updating the probability of genotypes (mixed weights) in the M-Step \n",
    "\n",
    "# TO DO: 2.2.1 Write a function to update the parameter pi1:K\n",
    "\n",
    "def update_pi(gamma, delta):\n",
    "    \"\"\"\n",
    "    write function here\n",
    "    \"\"\""
   ]
  },
  {
   "cell_type": "code",
   "execution_count": null,
   "metadata": {},
   "outputs": [],
   "source": [
    "# 2.2.2 Compute pi1:T for the first EM iteration\n",
    "pi_hat=update_pi(gamma, delta_hyper)\n",
    "pi_hat"
   ]
  },
  {
   "cell_type": "code",
   "execution_count": null,
   "metadata": {},
   "outputs": [],
   "source": [
    "# 2.3 Updating the binomial parameter μ1:K in the M-Step \n",
    "\n",
    "# TO DO: 2.3.1. Write a function to update the binomial parameter\n",
    "def update_mu(gamma, x, N, alpha, beta):\n",
    "    \"\"\"\n",
    "    write function here\n",
    "    \"\"\""
   ]
  },
  {
   "cell_type": "code",
   "execution_count": null,
   "metadata": {},
   "outputs": [],
   "source": [
    "# 2.3.2 Compute the binomial parameter for the first EM iteration\n",
    "mu_hat = update_mu(gamma, x, N, alpha_hyper, beta_hyper)\n",
    "mu_hat"
   ]
  },
  {
   "cell_type": "code",
   "execution_count": null,
   "metadata": {},
   "outputs": [],
   "source": [
    "# 2.4. Compute the log posterior \n",
    "\n",
    "#use scipy.stats.beta for the beta pdf\n",
    "from scipy.stats import beta\n",
    "# https://docs.scipy.org/doc/scipy/reference/generated/scipy.stats.beta.html\n",
    "\n",
    "#use scipy.stats.dirichlet for the dirichlet pdf\n",
    "from scipy.stats import dirichlet\n",
    "# https://docs.scipy.org/doc/scipy/reference/generated/scipy.stats.dirichlet.html\n",
    "\n",
    "# TO DO: 2.4.1. Define a function, compute.log.posterior, that will compute the log posterior distribution\n",
    "\n",
    "def compute_log_posterior(loglik, mu, pi, alpha, beta_vals, delta): #use beta_vals rather than beta so it doesn't conflict with scipy.stats.beta\n",
    "    \"\"\"\n",
    "    write function here\n",
    "    \"\"\""
   ]
  },
  {
   "cell_type": "code",
   "execution_count": null,
   "metadata": {},
   "outputs": [],
   "source": [
    "# 2.4.2. Compute the log posterior for the input data\n",
    "obs_lik = compute_binom_lik(x, N, mu_hat)\n",
    "loglik = compute_loglik(obs_lik, pi_hat)\n",
    "logP = compute_log_posterior(loglik, mu_hat, pi_hat, alpha_hyper, beta_hyper, delta_hyper)\n",
    "logP"
   ]
  },
  {
   "cell_type": "code",
   "execution_count": null,
   "metadata": {},
   "outputs": [],
   "source": [
    "# 3. Run the Full EM algorithm\n",
    "\n",
    "# TO DO: 3.1 Implement the full EM algorithm \n",
    "\n",
    "\"\"\"\n",
    "write code here\n",
    "\"\"\"\n",
    "\n",
    "\n",
    "\"\"\"\n",
    "After convergence print out:\n",
    "i. the converged values of pi and mu\n",
    "ii. the responsibilities (gamma) for the first 5 loci from the final iteration \n",
    "iii. the log posterior for each iteration\n",
    "\"\"\""
   ]
  },
  {
   "cell_type": "code",
   "execution_count": null,
   "metadata": {},
   "outputs": [],
   "source": [
    "# TODO 3.2 Determine the mutation status for the input data\n",
    "\"\"\"\n",
    "write code here\n",
    "\"\"\"\n",
    "\n",
    "#save results\n",
    "counts.to_csv('Homework7_mutationCalls_FirstName-LastName.txt', sep='\\t',index=False)"
   ]
  },
  {
   "cell_type": "code",
   "execution_count": null,
   "metadata": {},
   "outputs": [],
   "source": [
    "# TO DO 3.3. Plot the log posterior\n",
    "\"\"\"\n",
    "write code here\n",
    "\"\"\"\n"
   ]
  },
  {
   "cell_type": "code",
   "execution_count": null,
   "metadata": {},
   "outputs": [],
   "source": [
    "# 3.4. Plot the binomial pmf for the converged parameters\n",
    "\"\"\"\n",
    "write code here\n",
    "\"\"\"\n"
   ]
  },
  {
   "cell_type": "code",
   "execution_count": null,
   "metadata": {},
   "outputs": [],
   "source": []
  },
  {
   "cell_type": "code",
   "execution_count": null,
   "metadata": {},
   "outputs": [],
   "source": []
  }
 ],
 "metadata": {
  "kernelspec": {
   "display_name": "Python 3",
   "language": "python",
   "name": "python3"
  },
  "language_info": {
   "codemirror_mode": {
    "name": "ipython",
    "version": 3
   },
   "file_extension": ".py",
   "mimetype": "text/x-python",
   "name": "python",
   "nbconvert_exporter": "python",
   "pygments_lexer": "ipython3",
   "version": "3.7.6"
  }
 },
 "nbformat": 4,
 "nbformat_minor": 4
}
