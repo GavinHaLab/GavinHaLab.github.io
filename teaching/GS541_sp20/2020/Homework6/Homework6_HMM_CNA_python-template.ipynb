{
 "cells": [
  {
   "cell_type": "code",
   "execution_count": null,
   "metadata": {},
   "outputs": [],
   "source": [
    "# 0. Setup the libraries and input data\n",
    "\n",
    "# 0.2 Load libraries\n",
    "import pandas as pd\n",
    "import numpy as np\n",
    "from matplotlib import pyplot as plt\n",
    "import statistics #staticstics calculates variance the same way as var in R\n"
   ]
  },
  {
   "cell_type": "code",
   "execution_count": null,
   "metadata": {},
   "outputs": [],
   "source": [
    "# 0.3 Load the input data\n",
    "LogRatios = pd.read_csv('Homework6_log2ratios_chr1.txt', sep='\\t')\n",
    "x = LogRatios['log2Ratio'].values\n",
    "copyNumberStates = np.array([1,2,3,4,5])\n",
    "K = len(copyNumberStates)"
   ]
  },
  {
   "cell_type": "code",
   "execution_count": null,
   "metadata": {},
   "outputs": [],
   "source": [
    "# 0.4. Initialize model parameters and hyperparameters.\n",
    "\n",
    "pi_init = np.array([0.1,0.6,0.1,0.1,0.1]) \n",
    "mu_init = np.log2(copyNumberStates/2) \n",
    "var_init = np.array([statistics.variance(x) for m in range(K)]) \n",
    "\n",
    "A_init = np.zeros([K,K]) \n",
    "for i in range(K):\n",
    "    A_init[i,] = (1- 0.99999)/(K-1)\n",
    "    A_init[i,i] = 0.99999\n",
    "    \n",
    "deltaPi_hyper = [2,6,2,2,2] \n",
    "\n",
    "mMu_hyper = mu_init\n",
    "sMu_hyper = var_init\n",
    "\n",
    "betaVar_hyper = np.array([1,1,1,1,1])\n",
    "alphaVar_hyper = betaVar_hyper/(statistics.variance(x)/np.sqrt(K))\n",
    "\n",
    "dirCounts = 100000\n",
    "deltaA_hyper = A_init * dirCounts"
   ]
  },
  {
   "cell_type": "code",
   "execution_count": null,
   "metadata": {},
   "outputs": [],
   "source": [
    "# 1. Compute the Gaussian Emission Probabilities\n",
    "\n",
    "# use scipy.stats.norm for the normal pdf\n",
    "from scipy.stats import norm\n",
    "# https://docs.scipy.org/doc/scipy/reference/generated/scipy.stats.norm.html\n",
    "\n",
    "# TO DO: 1.1. Define a function to compute the likelihood probabilities:\n",
    "\n",
    "def compute_gauss_lik():\n",
    "    \"\"\"\n",
    "    write code here\n",
    "    \"\"\"\n"
   ]
  },
  {
   "cell_type": "code",
   "execution_count": null,
   "metadata": {},
   "outputs": [],
   "source": [
    "# 1.2. TO DO: Compute the Gaussian likelihood\n",
    "\"\"\"\n",
    "use function from 1.1\n",
    "\"\"\"\n"
   ]
  },
  {
   "cell_type": "code",
   "execution_count": null,
   "metadata": {},
   "outputs": [],
   "source": [
    "#this is code for the foward backward algorithm to use instead of the R package HMMCopy forward_backward\n",
    "\n",
    "def forward_backward(pi, A, obs_lik):\n",
    "    \n",
    "    #initialize\n",
    "    Q,T = obs_lik.shape \n",
    "    scale = np.ones(T)\n",
    "    alpha = np.zeros([Q,T])\n",
    "\n",
    "    alpha[:,0] = obs_lik[:,0]*pi \n",
    "\n",
    "    scale[0] = sum(alpha[:,0])\n",
    "    alpha[:,0]=alpha[:,0]/scale[0]\n",
    "\n",
    "    #forwards\n",
    "    for t in range(1,len(obs_lik.T)):\n",
    "        m = np.matmul(A.T,alpha[:,t-1])\n",
    "\n",
    "        alpha[:,t] = m * obs_lik[:,t]\n",
    "\n",
    "        scale[t] = sum(alpha[:,t]) \n",
    "        alpha[:,t]=alpha[:,t]/scale[t]\n",
    "\n",
    "    loglik = sum(np.log(scale))\n",
    "\n",
    "    #backwards\n",
    "    beta = np.zeros([Q,T])\n",
    "    beta[:,T-1] = np.ones(Q)\n",
    "\n",
    "    rho = np.zeros([Q,T])\n",
    "    rho[:,T-1] = alpha[:,T-1]\n",
    "\n",
    "    xi   = np.zeros([Q,Q,T])\n",
    "\n",
    "    for t in reversed(range(0,T-1)):\n",
    "        b = beta[:,t+1] * obs_lik[:,t+1]\n",
    "\n",
    "        beta[:,t]=np.matmul(A,b)\n",
    "        beta[:,t]=beta[:,t]/sum(beta[:,t])\n",
    "\n",
    "        rho[:,t] = alpha[:,t] * beta[:,t]\n",
    "        rho[:,t]=rho[:,t]/sum(rho[:,t])\n",
    "\n",
    "        xi[:,:,t]= A * np.matmul(alpha[:,t].reshape(-1,1), b.reshape(-1,1).T) \n",
    "\n",
    "        xi[:,:,t] = xi[:,:,t]/sum(sum(xi[:,:,t]))\n",
    "\n",
    "    return (rho,xi,loglik)"
   ]
  },
  {
   "cell_type": "code",
   "execution_count": null,
   "metadata": {},
   "outputs": [],
   "source": [
    "# 2.1. TO DO: Compute the responsibilities in the E-Step\n",
    "\n",
    "#example syntax for using the forward_backward function\n",
    "rho,xi,loglik = forward_backward(pi, A, obs_lik)\n",
    "\n",
    "\"\"\"\n",
    "write code here\n",
    "\"\"\""
   ]
  },
  {
   "cell_type": "code",
   "execution_count": null,
   "metadata": {},
   "outputs": [],
   "source": [
    "# 2.2. Updating the initial state distribution parameter pi1:K in the M-Step \n",
    "    \n",
    "# TO DO: 2.2.1. Write a function to update the initial state distribution parameter\n",
    "\n",
    "def update_pi():\n",
    "    \"\"\"\n",
    "    write code here\n",
    "    \"\"\""
   ]
  },
  {
   "cell_type": "code",
   "execution_count": null,
   "metadata": {},
   "outputs": [],
   "source": [
    "# 2.2.2. Compute pi_hat for the first iteration of EM\n",
    "\"\"\"\n",
    "use function from 2.2.1\n",
    "\"\"\""
   ]
  },
  {
   "cell_type": "code",
   "execution_count": null,
   "metadata": {},
   "outputs": [],
   "source": [
    "# 2.3. Updating the Gaussian mean parameter mu_1:K in the M-Step \n",
    "\n",
    "# TO DO: 2.3.1. Write a function to update Gaussian mean parameter\n",
    "\n",
    "def update_mu():\n",
    "    \"\"\"\n",
    "    write code here\n",
    "    \"\"\""
   ]
  },
  {
   "cell_type": "code",
   "execution_count": null,
   "metadata": {},
   "outputs": [],
   "source": [
    "# 2.3.2. Compute mu_hat for the first iteration of EM\n",
    "\"\"\"\n",
    "use function from 2.3.1\n",
    "\"\"\""
   ]
  },
  {
   "cell_type": "code",
   "execution_count": null,
   "metadata": {},
   "outputs": [],
   "source": [
    "# 2.4. Updating the Gaussian variance parameter in the M-Step\n",
    "\n",
    "# 2.4.1. TO DO: Write a function to update Gaussian variance parameter\n",
    "\n",
    "def update_var():\n",
    "    \"\"\"\n",
    "    write code here\n",
    "    \"\"\""
   ]
  },
  {
   "cell_type": "code",
   "execution_count": null,
   "metadata": {},
   "outputs": [],
   "source": [
    "# 2.4.2. Compute the updated variance (var_hat) for the first iteration of EM\n",
    "\"\"\"\n",
    "use function from 2.4.1\n",
    "\"\"\""
   ]
  },
  {
   "cell_type": "code",
   "execution_count": null,
   "metadata": {},
   "outputs": [],
   "source": [
    "# 2.5. Updating the transition probabilities A in the M-Step \n",
    "\n",
    "# TO DO : 2.5.1. Write a function to update the transition probabilities\n",
    "\n",
    "def update_A():\n",
    "    \"\"\"\n",
    "    write code here\n",
    "    \"\"\""
   ]
  },
  {
   "cell_type": "code",
   "execution_count": null,
   "metadata": {},
   "outputs": [],
   "source": [
    "# 2.5.2. Compute A_hat for the first iteration of EM\n",
    "\"\"\"\n",
    "use function from 2.5.1\n",
    "\"\"\""
   ]
  },
  {
   "cell_type": "code",
   "execution_count": null,
   "metadata": {},
   "outputs": [],
   "source": [
    "# 2.6. Compute the log posterior\n",
    "# 2.6.1. Write a function, compute_log_posterior, to compute the log posterior distribution.\n",
    "\n",
    "def compute_log_posterior ():\n",
    "    \"\"\"\n",
    "    write code here\n",
    "    \"\"\""
   ]
  },
  {
   "cell_type": "code",
   "execution_count": null,
   "metadata": {},
   "outputs": [],
   "source": [
    "# 2.6.2. Compute the log posterior for the input data\n",
    "\"\"\"\n",
    "use function from 2.6.1\n",
    "\"\"\""
   ]
  },
  {
   "cell_type": "code",
   "execution_count": null,
   "metadata": {},
   "outputs": [],
   "source": [
    "# 3. Learn the HMM Parameters and Predict the Copy Number Segments.\n",
    "\n",
    "\"\"\"\n",
    "write code here\n",
    "\"\"\"\n",
    "\n",
    "\"\"\"\n",
    "After convergence:\n",
    "\n",
    "i. Print out converged parameters:\n",
    "    the Gaussian mean and variance parameters mu_hat1:K and var_hat1:K\n",
    "    the initial state distribution pi_hat1:K\n",
    "    the transition matrix A_hat\n",
    "ii. Print out the log posterior for all iterations.\n",
    "iii. Save the Gaussian likelihood probabilities obs.lik computed in the final iteration. You will need this for the Viterbi algorithm in Section 3.2.\n",
    "\"\"\"\n",
    "\n"
   ]
  },
  {
   "cell_type": "code",
   "execution_count": null,
   "metadata": {},
   "outputs": [],
   "source": [
    "#this is code for the viterbi algorithm to use instead of the R package HMMCopy Viterbi\n",
    "\n",
    "def viterbi(log_pi, log_A, log_obs_lik):\n",
    "    Q,T = log_obs_lik.shape\n",
    "    \n",
    "    delta = np.zeros([Q,T])\n",
    "    psi = np.zeros([Q,T])\n",
    "    path = np.zeros(T)\n",
    "\n",
    "    delta[:,0] = log_pi + log_obs_lik[:,0] \n",
    "    \n",
    "    psi[:,0] = 0\n",
    "    \n",
    "    #forward\n",
    "    for t in range(1,T): \n",
    "        for j in range(0,Q):\n",
    "            \n",
    "            delta[j,t] = np.max(delta[:,t-1] + log_A[:,j])\n",
    "            \n",
    "            psi[j,t] = np.argmax(delta[:,t-1] + log_A[:,j])\n",
    "            \n",
    "            delta[j,t] = delta[j,t] + log_obs_lik[j,t]\n",
    "\n",
    "    path = delta.argmax(axis=0)\n",
    "\n",
    "    #backwards\n",
    "    for t in reversed(range(0,T-1)): \n",
    "        path[t] = psi[path[t+1],t+1]         \n",
    "\n",
    "    return(path)\n"
   ]
  },
  {
   "cell_type": "code",
   "execution_count": null,
   "metadata": {},
   "outputs": [],
   "source": [
    "# 3.2. Determine the copy number segments using the Viterbi algorithm\n",
    "path = viterbi(np.log(pi[-1]),np.log(A[-1]),np.log(obs_lik))\n",
    "\n",
    "#TO DO: print out the segments\n",
    "\n",
    "\"\"\"\n",
    "write code here\n",
    "\"\"\"\n"
   ]
  },
  {
   "cell_type": "code",
   "execution_count": null,
   "metadata": {},
   "outputs": [],
   "source": [
    "# TO DO: 4.1. Implement the function to calculate power.\n",
    "\n",
    "def computePower():\n",
    "    \"\"\"\n",
    "    write code here\n",
    "    \"\"\"\n"
   ]
  },
  {
   "cell_type": "code",
   "execution_count": null,
   "metadata": {},
   "outputs": [],
   "source": [
    "# 4.2. What is the power for depth N=40 and tumor fraction alpha = 0.2\n",
    "\"\"\"\n",
    "write code here\n",
    "\"\"\""
   ]
  },
  {
   "cell_type": "code",
   "execution_count": null,
   "metadata": {},
   "outputs": [],
   "source": [
    "# TO DO: 4.3. Plot a graph of the power estimates (y-axis) for a range of tumor fractions (x-axis)\n",
    "\n",
    "\"\"\"\n",
    "write code here\n",
    "\"\"\"\n"
   ]
  },
  {
   "cell_type": "code",
   "execution_count": null,
   "metadata": {},
   "outputs": [],
   "source": [
    "# TO DO: 4.4. Plot a graph of the power (y-axis) required for a range of read depths (x-axis)\n",
    "\n",
    "\"\"\"\n",
    "write code here\n",
    "\"\"\"\n"
   ]
  },
  {
   "cell_type": "code",
   "execution_count": null,
   "metadata": {},
   "outputs": [],
   "source": [
    "# 4.5. What is the minimum depth required for tumor fraction alpha = 0.1 and desired power >= 0.8?\n",
    "\n",
    "\"\"\"\n",
    "write code here\n",
    "\"\"\"\n"
   ]
  }
 ],
 "metadata": {
  "kernelspec": {
   "display_name": "Python 3",
   "language": "python",
   "name": "python3"
  },
  "language_info": {
   "codemirror_mode": {
    "name": "ipython",
    "version": 3
   },
   "file_extension": ".py",
   "mimetype": "text/x-python",
   "name": "python",
   "nbconvert_exporter": "python",
   "pygments_lexer": "ipython3",
   "version": "3.8.2"
  }
 },
 "nbformat": 4,
 "nbformat_minor": 4
}
